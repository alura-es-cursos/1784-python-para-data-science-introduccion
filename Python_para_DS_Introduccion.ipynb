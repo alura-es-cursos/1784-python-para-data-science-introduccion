{
  "nbformat": 4,
  "nbformat_minor": 0,
  "metadata": {
    "colab": {
      "provenance": [],
      "collapsed_sections": [
        "pvHvcdN5N1dI",
        "Xk5iyQaJQIlv",
        "3Dnc5xJiYOn6",
        "7A5Mf2q7aYzJ"
      ],
      "authorship_tag": "ABX9TyNmp0PMr9LxRM06FE2EW3BU",
      "include_colab_link": true
    },
    "kernelspec": {
      "name": "python3",
      "display_name": "Python 3"
    },
    "language_info": {
      "name": "python"
    }
  },
  "cells": [
    {
      "cell_type": "markdown",
      "metadata": {
        "id": "view-in-github",
        "colab_type": "text"
      },
      "source": [
        "<a href=\"https://colab.research.google.com/github/logan6230/-python-DS/blob/main/Python_para_DS_Introduccion.ipynb\" target=\"_parent\"><img src=\"https://colab.research.google.com/assets/colab-badge.svg\" alt=\"Open In Colab\"/></a>"
      ]
    },
    {
      "cell_type": "markdown",
      "source": [
        "#**Python para DS - Introduccion al lenguaje**"
      ],
      "metadata": {
        "id": "pvHvcdN5N1dI"
      }
    },
    {
      "cell_type": "code",
      "source": [
        "nombre = 'Segundo'"
      ],
      "metadata": {
        "id": "NsHIUYPUOg0-"
      },
      "execution_count": 11,
      "outputs": []
    },
    {
      "cell_type": "code",
      "source": [
        "nombre"
      ],
      "metadata": {
        "colab": {
          "base_uri": "https://localhost:8080/",
          "height": 35
        },
        "id": "DNu08S9KPCqc",
        "outputId": "c2c4e6e2-02fe-42d8-e702-4ff96639f55f"
      },
      "execution_count": 12,
      "outputs": [
        {
          "output_type": "execute_result",
          "data": {
            "text/plain": [
              "'Segundo'"
            ],
            "application/vnd.google.colaboratory.intrinsic+json": {
              "type": "string"
            }
          },
          "metadata": {},
          "execution_count": 12
        }
      ]
    },
    {
      "cell_type": "code",
      "source": [
        "edad = 36"
      ],
      "metadata": {
        "id": "jFF2LqiWPHyb"
      },
      "execution_count": 13,
      "outputs": []
    },
    {
      "cell_type": "code",
      "source": [
        "edad"
      ],
      "metadata": {
        "colab": {
          "base_uri": "https://localhost:8080/"
        },
        "id": "-YM1ka0EPUbd",
        "outputId": "ee1dab49-929f-4ba3-fe6f-14b8c3f46f4d"
      },
      "execution_count": 14,
      "outputs": [
        {
          "output_type": "execute_result",
          "data": {
            "text/plain": [
              "36"
            ]
          },
          "metadata": {},
          "execution_count": 14
        }
      ]
    },
    {
      "cell_type": "markdown",
      "source": [
        "#**Mi primera funcion**\n",
        "\n",
        "\n",
        "\n"
      ],
      "metadata": {
        "id": "Xk5iyQaJQIlv"
      }
    },
    {
      "cell_type": "code",
      "source": [
        "print('El nombre es Segundo y su edad es 36')"
      ],
      "metadata": {
        "colab": {
          "base_uri": "https://localhost:8080/"
        },
        "id": "h4kBGs4zPWiM",
        "outputId": "0346e625-6f2e-4a33-8eaa-ec3e6e4821e6"
      },
      "execution_count": 15,
      "outputs": [
        {
          "output_type": "stream",
          "name": "stdout",
          "text": [
            "El nombre es Segundo y su edad es 36\n"
          ]
        }
      ]
    },
    {
      "cell_type": "code",
      "source": [
        "print(f'El nombre es {nombre} y su edad es {edad}')"
      ],
      "metadata": {
        "colab": {
          "base_uri": "https://localhost:8080/"
        },
        "id": "AeMJAZDkQln0",
        "outputId": "62a24db0-0944-4183-bf37-9c12ff6dc1af"
      },
      "execution_count": 16,
      "outputs": [
        {
          "output_type": "stream",
          "name": "stdout",
          "text": [
            "El nombre es Segundo y su edad es 36\n"
          ]
        }
      ]
    },
    {
      "cell_type": "code",
      "source": [
        "def saludar():\n",
        "   nombre = input('Digite su nombre: ')\n",
        "   print(f'Hola {nombre} sea bienvenido!!')\n"
      ],
      "metadata": {
        "id": "Z70BnMWLQ1wg"
      },
      "execution_count": 17,
      "outputs": []
    },
    {
      "cell_type": "code",
      "source": [
        "saludar()"
      ],
      "metadata": {
        "colab": {
          "base_uri": "https://localhost:8080/"
        },
        "id": "8pJOpAfzSWtV",
        "outputId": "72a63747-eb25-44f5-bc0e-e8324596024c"
      },
      "execution_count": 18,
      "outputs": [
        {
          "output_type": "stream",
          "name": "stdout",
          "text": [
            "Digite su nombre: Segundo\n",
            "Hola Segundo sea bienvenido!!\n"
          ]
        }
      ]
    },
    {
      "cell_type": "code",
      "source": [
        "saludar()"
      ],
      "metadata": {
        "colab": {
          "base_uri": "https://localhost:8080/"
        },
        "id": "QyBcQDlrScn4",
        "outputId": "50488fec-3295-4996-d6ac-60db580b247f"
      },
      "execution_count": 19,
      "outputs": [
        {
          "output_type": "stream",
          "name": "stdout",
          "text": [
            "Digite su nombre: Maria\n",
            "Hola Maria sea bienvenido!!\n"
          ]
        }
      ]
    },
    {
      "cell_type": "markdown",
      "source": [
        "#Funciones con **parametros**"
      ],
      "metadata": {
        "id": "3Dnc5xJiYOn6"
      }
    },
    {
      "cell_type": "code",
      "source": [
        "saludar()"
      ],
      "metadata": {
        "colab": {
          "base_uri": "https://localhost:8080/"
        },
        "id": "S8LTdG6XSx1t",
        "outputId": "5cc5636e-ecc5-4f50-a233-bcb3af62f42d"
      },
      "execution_count": 20,
      "outputs": [
        {
          "output_type": "stream",
          "name": "stdout",
          "text": [
            "Digite su nombre: Lopez\n",
            "Hola Lopez sea bienvenido!!\n"
          ]
        }
      ]
    },
    {
      "cell_type": "code",
      "source": [
        "nombre = 'andrea'\n"
      ],
      "metadata": {
        "id": "1kHb50Q2S_R5"
      },
      "execution_count": 21,
      "outputs": []
    },
    {
      "cell_type": "code",
      "source": [
        "def saludar_con_parametros(nombre_local):\n",
        "  print(f'Hola {nombre_local} sea bienvenido!!')"
      ],
      "metadata": {
        "id": "EE2_kjjCXeH_"
      },
      "execution_count": 22,
      "outputs": []
    },
    {
      "cell_type": "code",
      "source": [
        "saludar_con_parametros(nombre.capitalize())"
      ],
      "metadata": {
        "colab": {
          "base_uri": "https://localhost:8080/"
        },
        "id": "aCR-n4xDXzT7",
        "outputId": "ee960451-83a5-4b1c-c3ad-9c8d50baf141"
      },
      "execution_count": 23,
      "outputs": [
        {
          "output_type": "stream",
          "name": "stdout",
          "text": [
            "Hola Andrea sea bienvenido!!\n"
          ]
        }
      ]
    },
    {
      "cell_type": "markdown",
      "source": [
        "#Condicionales"
      ],
      "metadata": {
        "id": "J2K-NVUBYq0F"
      }
    },
    {
      "cell_type": "code",
      "source": [
        "edad = 15\n",
        "\n",
        "def verificar_puede_conducir(edad):\n",
        "  if(edad >= 18):\n",
        "    print('Puede conducir')\n",
        "  else:\n",
        "    print('Usted no tiene edad para conducir')\n",
        "verificar_puede_conducir(edad)"
      ],
      "metadata": {
        "colab": {
          "base_uri": "https://localhost:8080/"
        },
        "id": "y1m5ZNlyX15c",
        "outputId": "cd2168ea-669d-4a54-bebd-3152de5669fa"
      },
      "execution_count": 24,
      "outputs": [
        {
          "output_type": "stream",
          "name": "stdout",
          "text": [
            "Usted no tiene edad para conducir\n"
          ]
        }
      ]
    },
    {
      "cell_type": "markdown",
      "source": [
        "#**Conversion de tipos de datos**"
      ],
      "metadata": {
        "id": "7A5Mf2q7aYzJ"
      }
    },
    {
      "cell_type": "code",
      "source": [
        "from ast import parse\n",
        "def verificar_puede_conducir_sin_parametro():\n",
        "  edad = input('Digite su edad')\n",
        "  edad = int(edad)\n",
        "  if(edad >= 18):\n",
        "    print('Puede conducir')\n",
        "  else:\n",
        "    print('Usted no tiene edad para conducir')\n",
        "verificar_puede_conducir_sin_parametro()"
      ],
      "metadata": {
        "colab": {
          "base_uri": "https://localhost:8080/"
        },
        "id": "9ZTF-CwvZX7U",
        "outputId": "5b89b12c-6a63-42cf-b086-2dac7155624c"
      },
      "execution_count": 25,
      "outputs": [
        {
          "output_type": "stream",
          "name": "stdout",
          "text": [
            "Digite su edad34\n",
            "Puede conducir\n"
          ]
        }
      ]
    },
    {
      "cell_type": "markdown",
      "source": [
        "#Uso de listas"
      ],
      "metadata": {
        "id": "x4pmtxbWchHW"
      }
    },
    {
      "cell_type": "code",
      "source": [
        "edades=[12,13,14,45,50]"
      ],
      "metadata": {
        "id": "jt_YNtqVa3Zb"
      },
      "execution_count": 26,
      "outputs": []
    },
    {
      "cell_type": "code",
      "source": [
        "#Asi verificamos que tipo de datos es\n",
        "type(edades)\n",
        "edades.reverse()\n",
        "edades[1:]"
      ],
      "metadata": {
        "colab": {
          "base_uri": "https://localhost:8080/"
        },
        "id": "Iw8OqzGXcuDa",
        "outputId": "60b7c378-6c83-4bc7-ac19-de8ff7999cb3"
      },
      "execution_count": 27,
      "outputs": [
        {
          "output_type": "execute_result",
          "data": {
            "text/plain": [
              "[45, 14, 13, 12]"
            ]
          },
          "metadata": {},
          "execution_count": 27
        }
      ]
    },
    {
      "cell_type": "code",
      "source": [
        "edades"
      ],
      "metadata": {
        "colab": {
          "base_uri": "https://localhost:8080/"
        },
        "id": "3o_qt5F-cvUg",
        "outputId": "a52e75d4-e6d0-4a70-ecac-fabe35297c76"
      },
      "execution_count": 28,
      "outputs": [
        {
          "output_type": "execute_result",
          "data": {
            "text/plain": [
              "[50, 45, 14, 13, 12]"
            ]
          },
          "metadata": {},
          "execution_count": 28
        }
      ]
    },
    {
      "cell_type": "code",
      "source": [
        "edades[-1]"
      ],
      "metadata": {
        "colab": {
          "base_uri": "https://localhost:8080/"
        },
        "id": "ybqNGVP_d-_q",
        "outputId": "9d1614f6-21b2-4bef-f3d9-99c0fab3f5d8"
      },
      "execution_count": 29,
      "outputs": [
        {
          "output_type": "execute_result",
          "data": {
            "text/plain": [
              "12"
            ]
          },
          "metadata": {},
          "execution_count": 29
        }
      ]
    },
    {
      "cell_type": "markdown",
      "source": [
        "#**Bucles-Ciclos (Loops)**"
      ],
      "metadata": {
        "id": "htGtONpvk2i4"
      }
    },
    {
      "cell_type": "code",
      "source": [
        "for eedad in edades :\n",
        "  verificar_puede_conducir(eedad)"
      ],
      "metadata": {
        "id": "XvCkR7yUeYXD",
        "colab": {
          "base_uri": "https://localhost:8080/"
        },
        "outputId": "27bc6cfb-971d-47b9-f007-1ff8ae4574e8"
      },
      "execution_count": 30,
      "outputs": [
        {
          "output_type": "stream",
          "name": "stdout",
          "text": [
            "Puede conducir\n",
            "Puede conducir\n",
            "Usted no tiene edad para conducir\n",
            "Usted no tiene edad para conducir\n",
            "Usted no tiene edad para conducir\n"
          ]
        }
      ]
    },
    {
      "cell_type": "code",
      "source": [
        "\n",
        "\n",
        "def verificar_puede_conducir_con_bucle(edades):\n",
        "  for edad in edades :\n",
        "    if(edad >= 18):\n",
        "      print('Puede conducir')\n",
        "    else:\n",
        "      print('Usted no tiene edad para conducir')\n",
        "\n",
        "  \n",
        "verificar_puede_conducir_con_bucle(edades)"
      ],
      "metadata": {
        "colab": {
          "base_uri": "https://localhost:8080/"
        },
        "id": "nGxTvw7ClNnG",
        "outputId": "7bd66bb7-00c1-4f9c-c029-8a52bd2197a6"
      },
      "execution_count": 32,
      "outputs": [
        {
          "output_type": "stream",
          "name": "stdout",
          "text": [
            "Puede conducir\n",
            "Puede conducir\n",
            "Usted no tiene edad para conducir\n",
            "Usted no tiene edad para conducir\n",
            "Usted no tiene edad para conducir\n"
          ]
        }
      ]
    },
    {
      "cell_type": "markdown",
      "source": [
        "#**Booleano**"
      ],
      "metadata": {
        "id": "xrxwfl_Os32B"
      }
    },
    {
      "cell_type": "code",
      "source": [
        "edad = 18\n",
        "\n",
        "edad <= 18"
      ],
      "metadata": {
        "colab": {
          "base_uri": "https://localhost:8080/"
        },
        "id": "qo9PLyiAs_j6",
        "outputId": "0d53f30c-dcd6-4e1d-919f-272bd22cae69"
      },
      "execution_count": 38,
      "outputs": [
        {
          "output_type": "execute_result",
          "data": {
            "text/plain": [
              "True"
            ]
          },
          "metadata": {},
          "execution_count": 38
        }
      ]
    },
    {
      "cell_type": "code",
      "source": [
        "\n",
        "edad == 18\n"
      ],
      "metadata": {
        "colab": {
          "base_uri": "https://localhost:8080/"
        },
        "id": "ZlE-j9jAmQ_h",
        "outputId": "0c9fe237-682d-4943-ce33-6edc77d81073"
      },
      "execution_count": 37,
      "outputs": [
        {
          "output_type": "execute_result",
          "data": {
            "text/plain": [
              "True"
            ]
          },
          "metadata": {},
          "execution_count": 37
        }
      ]
    },
    {
      "cell_type": "code",
      "source": [
        "verificaciones=[]\n",
        "edades=[12,23,13,24,15,37]\n",
        "\n",
        "def verifica_conducir_bool(verificaciones, edades):\n",
        "  for edad in edades:\n",
        "    if edad >=18:\n",
        "      verificaciones.append(True)\n",
        "    else:\n",
        "      verificaciones.append(False)\n",
        "  for verificacion in verificaciones:\n",
        "    if verificacion :\n",
        "      print('Usted tine edad para conducir')\n",
        "    else:\n",
        "      print('Usted no tiene edad para conducir')\n",
        "\n",
        "verifica_conducir_bool(verificaciones, edades)\n",
        "\n",
        "\n"
      ],
      "metadata": {
        "colab": {
          "base_uri": "https://localhost:8080/"
        },
        "id": "wSY_XMnGtUen",
        "outputId": "cca90e6a-81b8-4653-a2cf-d834c62ba77f"
      },
      "execution_count": 41,
      "outputs": [
        {
          "output_type": "stream",
          "name": "stdout",
          "text": [
            "Usted no tiene edad para conducir\n",
            "Usted tine edad para conducir\n",
            "Usted no tiene edad para conducir\n",
            "Usted tine edad para conducir\n",
            "Usted no tiene edad para conducir\n",
            "Usted tine edad para conducir\n"
          ]
        }
      ]
    },
    {
      "cell_type": "markdown",
      "source": [
        "#**Diferentes tipos de listas**"
      ],
      "metadata": {
        "id": "CouSBpAdvfrS"
      }
    },
    {
      "cell_type": "code",
      "source": [
        "persona = ['Segundo',25,True, 'Colombia']\n",
        "\n",
        "for elemento in persona:\n",
        "  print(f'El elemento {elemento} de la lista es del tipo ', type(elemento))"
      ],
      "metadata": {
        "colab": {
          "base_uri": "https://localhost:8080/"
        },
        "id": "lYNdf21xvkhy",
        "outputId": "aad4cb7e-f70d-4745-952e-facff5239dec"
      },
      "execution_count": 43,
      "outputs": [
        {
          "output_type": "stream",
          "name": "stdout",
          "text": [
            "El elemento Segundo de la lista es del tipo  <class 'str'>\n",
            "El elemento 25 de la lista es del tipo  <class 'int'>\n",
            "El elemento True de la lista es del tipo  <class 'bool'>\n",
            "El elemento Colombia de la lista es del tipo  <class 'str'>\n"
          ]
        }
      ]
    },
    {
      "cell_type": "markdown",
      "source": [
        "#**Importando una libreria**"
      ],
      "metadata": {
        "id": "SLxCLDCexhiO"
      }
    },
    {
      "cell_type": "markdown",
      "source": [],
      "metadata": {
        "id": "MUjBvSNOvfoE"
      }
    }
  ]
}